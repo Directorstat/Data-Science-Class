{
 "cells": [
  {
   "cell_type": "code",
   "execution_count": 5,
   "id": "3f8e0491-9498-480f-b7ea-fce44e28d868",
   "metadata": {},
   "outputs": [
    {
     "name": "stdout",
     "output_type": "stream",
     "text": [
      "What is the scientific method of collecting, organizing, Presenting, analyzing and interpretation of data for effective decision making?\n"
     ]
    },
    {
     "name": "stdin",
     "output_type": "stream",
     "text": [
      " Statistics\n"
     ]
    },
    {
     "name": "stdout",
     "output_type": "stream",
     "text": [
      "correct answer, you have 1 point\n",
      "The type of statistics that deal with visualization is known as?\n"
     ]
    },
    {
     "name": "stdin",
     "output_type": "stream",
     "text": [
      " Descriptive\n"
     ]
    },
    {
     "name": "stdout",
     "output_type": "stream",
     "text": [
      "correct answer, you have 2 point\n",
      "What is the hypothesis to be tested called?\n"
     ]
    },
    {
     "name": "stdin",
     "output_type": "stream",
     "text": [
      " Null hypothesis\n"
     ]
    },
    {
     "name": "stdout",
     "output_type": "stream",
     "text": [
      "correct answer, you have 3 point\n",
      "Out of X and Y which one is the dependent variable?\n"
     ]
    },
    {
     "name": "stdin",
     "output_type": "stream",
     "text": [
      " Y\n"
     ]
    },
    {
     "name": "stdout",
     "output_type": "stream",
     "text": [
      "correct answer, you have 4 point\n",
      "Influential statistics is making a sample of data to predict a larger population. Yes or No?\n"
     ]
    },
    {
     "name": "stdin",
     "output_type": "stream",
     "text": [
      " No\n"
     ]
    }
   ],
   "source": [
    "#Quiz Game\n",
    "#Basic Statistical Questions\n",
    "Questions = ['What is the scientific method of collecting, organizing, Presenting, analyzing and interpretation of data for effective decision making?',\n",
    "             'The type of statistics that deal with visualization is known as?', \n",
    "             'What is the hypothesis to be tested called?', \n",
    "             'Out of X and Y which one is the dependent variable?',\n",
    "            'Influential statistics is making a sample of data to predict a larger population. Yes or No?']\n",
    "for question in Questions:\n",
    "    print(question)\n",
    "    Answer = str(input())\n",
    "\n",
    "    if Answer == 'Statistics':\n",
    "        point = 1\n",
    "        print('correct answer, you have' ,point, 'point')\n",
    "        \n",
    "    elif Answer == 'Descriptive':\n",
    "        point = point+1\n",
    "        print('correct answer, you have' ,point, 'point')\n",
    "        \n",
    "    elif Answer == 'Null hypothesis':\n",
    "        point = point+1\n",
    "        print('correct answer, you have' ,point, 'point')\n",
    "\n",
    "    elif Answer == 'Y':\n",
    "        point = point+1\n",
    "        print('correct answer, you have' ,point, 'point')\n",
    "\n",
    "    elif Answer == 'Yes':\n",
    "        point = point+1\n",
    "        print('correct: Total point',point)"
   ]
  },
  {
   "cell_type": "code",
   "execution_count": 6,
   "id": "e0f4fd01-c244-4196-83c0-8b49941f1e06",
   "metadata": {},
   "outputs": [
    {
     "name": "stdin",
     "output_type": "stream",
     "text": [
      "Enter the first number:  15\n",
      "Enter the second number:  20\n"
     ]
    },
    {
     "name": "stdout",
     "output_type": "stream",
     "text": [
      "\n",
      "Before Swapping:\n",
      "First Number = 15.0\n",
      "Second Number = 20.0\n",
      "\n",
      "After Swapping:\n",
      "First Number = 20.0\n",
      "Second Number = 15.0\n"
     ]
    }
   ],
   "source": [
    "# Number Swapping Program using Tuple Unpacking\n",
    "def swap_numbers():\n",
    "    try:\n",
    "        num1 = float(input(\"Enter the first number: \"))\n",
    "        num2 = float(input(\"Enter the second number: \"))\n",
    "\n",
    "        print(f\"\\nBefore Swapping:\\nFirst Number = {num1}\\nSecond Number = {num2}\")\n",
    "\n",
    "        # Swapping using tuple unpacking\n",
    "        num1, num2 = num2, num1\n",
    "\n",
    "        print(f\"\\nAfter Swapping:\\nFirst Number = {num1}\\nSecond Number = {num2}\")\n",
    "\n",
    "    except ValueError:\n",
    "        # Handling non-numeric input\n",
    "        print(\"\\nError: Please enter valid numeric values.\")\n",
    "swap_numbers()"
   ]
  },
  {
   "cell_type": "code",
   "execution_count": 7,
   "id": "05654e2b-621b-41d4-9315-2b88b165e712",
   "metadata": {},
   "outputs": [
    {
     "name": "stdin",
     "output_type": "stream",
     "text": [
      "Enter an integer:  12\n"
     ]
    },
    {
     "name": "stdout",
     "output_type": "stream",
     "text": [
      "\n",
      "You entered: 12\n",
      "The number is neither Prime, Armstrong, nor Palindrome.\n"
     ]
    }
   ],
   "source": [
    "#Prime/Armstrong/Palindrome Number Identifier\n",
    "def is_prime(n):\n",
    "    if n <= 1:\n",
    "        return False\n",
    "    for i in range(2, int(n**0.5) + 1):\n",
    "        if n % i == 0:\n",
    "            return False\n",
    "    return True\n",
    "\n",
    "def is_armstrong(n):\n",
    "    digits = str(n)\n",
    "    power = len(digits)\n",
    "    total = sum(int(digit)**power for digit in digits)\n",
    "    return total == n\n",
    "\n",
    "def is_palindrome(n):\n",
    "    return str(n) == str(n)[::-1]\n",
    "\n",
    "def main():\n",
    "    try:\n",
    "        num = int(input(\"Enter an integer: \"))\n",
    "\n",
    "        print(f\"\\nYou entered: {num}\")\n",
    "        found = False\n",
    "\n",
    "        if is_prime(num):\n",
    "            print(\"It is a Prime number.\")\n",
    "            found = True\n",
    "\n",
    "        if is_armstrong(num):\n",
    "            print(\"It is an Armstrong number.\")\n",
    "            found = True\n",
    "\n",
    "        if is_palindrome(num):\n",
    "            print(\"It is a Palindrome number.\")\n",
    "            found = True\n",
    "\n",
    "        if not found:\n",
    "            print(\"The number is neither Prime, Armstrong, nor Palindrome.\")\n",
    "\n",
    "    except ValueError:\n",
    "        print(\"\\nError: Please enter a valid integer.\")\n",
    "\n",
    "main()"
   ]
  },
  {
   "cell_type": "code",
   "execution_count": 13,
   "id": "d1650277-a19b-4679-905e-04b9b655f4e6",
   "metadata": {},
   "outputs": [
    {
     "name": "stdin",
     "output_type": "stream",
     "text": [
      "Enter the number of Fibonacci terms to generate:  2\n"
     ]
    },
    {
     "name": "stdout",
     "output_type": "stream",
     "text": [
      "\n",
      "The first 2 terms of the Fibonacci sequence are:\n",
      "[0, 1]\n"
     ]
    }
   ],
   "source": [
    "#The Fibonacci Sequence\n",
    "def generate_fibonacci(n):\n",
    "    sequence = []\n",
    "    a, b = 0, 1\n",
    "    for _ in range(n):\n",
    "        sequence.append(a)\n",
    "        a, b = b, a + b\n",
    "    return sequence\n",
    "\n",
    "def main():\n",
    "    try:\n",
    "        n = int(input(\"Enter the number of Fibonacci terms to generate: \"))\n",
    "\n",
    "        if n <= 0:\n",
    "            print(\"Error: Please enter a positive integer greater than 0.\")\n",
    "        else:\n",
    "            print(f\"\\nThe first {n} terms of the Fibonacci sequence are:\")\n",
    "            fib_sequence = generate_fibonacci(n)\n",
    "            print(fib_sequence)\n",
    "\n",
    "    except ValueError:\n",
    "        print(\"Error: Please enter a valid integer.\")\n",
    "\n",
    "main()"
   ]
  }
 ],
 "metadata": {
  "kernelspec": {
   "display_name": "Python [conda env:base] *",
   "language": "python",
   "name": "conda-base-py"
  },
  "language_info": {
   "codemirror_mode": {
    "name": "ipython",
    "version": 3
   },
   "file_extension": ".py",
   "mimetype": "text/x-python",
   "name": "python",
   "nbconvert_exporter": "python",
   "pygments_lexer": "ipython3",
   "version": "3.12.7"
  }
 },
 "nbformat": 4,
 "nbformat_minor": 5
}
