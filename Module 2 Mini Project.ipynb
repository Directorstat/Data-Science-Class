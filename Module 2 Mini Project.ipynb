{
 "cells": [
  {
   "cell_type": "code",
   "execution_count": 159,
   "id": "db67474c-238b-4fab-89aa-5495e15a2778",
   "metadata": {},
   "outputs": [],
   "source": [
    "#importing libraries\n",
    "import pandas as pd\n",
    "import numpy as np\n",
    "import matplotlib.pyplot as plt #data viz library\n",
    "import seaborn as sns #data viz library"
   ]
  },
  {
   "cell_type": "code",
   "execution_count": 160,
   "id": "96fd2dfd-93a0-4e8c-972c-1a456e97d225",
   "metadata": {},
   "outputs": [
    {
     "name": "stdout",
     "output_type": "stream",
     "text": [
      "(200, 7)\n"
     ]
    },
    {
     "data": {
      "text/html": [
       "<div>\n",
       "<style scoped>\n",
       "    .dataframe tbody tr th:only-of-type {\n",
       "        vertical-align: middle;\n",
       "    }\n",
       "\n",
       "    .dataframe tbody tr th {\n",
       "        vertical-align: top;\n",
       "    }\n",
       "\n",
       "    .dataframe thead th {\n",
       "        text-align: right;\n",
       "    }\n",
       "</style>\n",
       "<table border=\"1\" class=\"dataframe\">\n",
       "  <thead>\n",
       "    <tr style=\"text-align: right;\">\n",
       "      <th></th>\n",
       "      <th>OrderID</th>\n",
       "      <th>Date</th>\n",
       "      <th>CustomerID</th>\n",
       "      <th>Product</th>\n",
       "      <th>Quantity</th>\n",
       "      <th>Price</th>\n",
       "      <th>Total</th>\n",
       "    </tr>\n",
       "  </thead>\n",
       "  <tbody>\n",
       "    <tr>\n",
       "      <th>0</th>\n",
       "      <td>1</td>\n",
       "      <td>2024-04-12</td>\n",
       "      <td>C002</td>\n",
       "      <td>Phone</td>\n",
       "      <td>1</td>\n",
       "      <td>600</td>\n",
       "      <td>642.09</td>\n",
       "    </tr>\n",
       "    <tr>\n",
       "      <th>1</th>\n",
       "      <td>2</td>\n",
       "      <td>2024-12-14</td>\n",
       "      <td>C003</td>\n",
       "      <td>Laptop</td>\n",
       "      <td>2</td>\n",
       "      <td>1000</td>\n",
       "      <td>2098.39</td>\n",
       "    </tr>\n",
       "    <tr>\n",
       "      <th>2</th>\n",
       "      <td>3</td>\n",
       "      <td>2024-09-27</td>\n",
       "      <td>C017</td>\n",
       "      <td>Monitor</td>\n",
       "      <td>1</td>\n",
       "      <td>200</td>\n",
       "      <td>196.34</td>\n",
       "    </tr>\n",
       "    <tr>\n",
       "      <th>3</th>\n",
       "      <td>4</td>\n",
       "      <td>2024-04-16</td>\n",
       "      <td>C005</td>\n",
       "      <td>Phone</td>\n",
       "      <td>3</td>\n",
       "      <td>600</td>\n",
       "      <td>1955.86</td>\n",
       "    </tr>\n",
       "    <tr>\n",
       "      <th>4</th>\n",
       "      <td>5</td>\n",
       "      <td>2024-03-12</td>\n",
       "      <td>C017</td>\n",
       "      <td>Laptop</td>\n",
       "      <td>1</td>\n",
       "      <td>1000</td>\n",
       "      <td>1098.19</td>\n",
       "    </tr>\n",
       "  </tbody>\n",
       "</table>\n",
       "</div>"
      ],
      "text/plain": [
       "   OrderID        Date CustomerID  Product  Quantity  Price    Total\n",
       "0        1  2024-04-12       C002    Phone         1    600   642.09\n",
       "1        2  2024-12-14       C003   Laptop         2   1000  2098.39\n",
       "2        3  2024-09-27       C017  Monitor         1    200   196.34\n",
       "3        4  2024-04-16       C005    Phone         3    600  1955.86\n",
       "4        5  2024-03-12       C017   Laptop         1   1000  1098.19"
      ]
     },
     "execution_count": 160,
     "metadata": {},
     "output_type": "execute_result"
    }
   ],
   "source": [
    "df = pd.read_csv('Dataset/Dataset.csv')\n",
    "print(df.shape)\n",
    "df.head()"
   ]
  },
  {
   "cell_type": "code",
   "execution_count": 161,
   "id": "88f52f75-e4cf-4314-a958-79efa2150ad8",
   "metadata": {},
   "outputs": [
    {
     "name": "stdout",
     "output_type": "stream",
     "text": [
      "<class 'pandas.core.frame.DataFrame'>\n",
      "RangeIndex: 200 entries, 0 to 199\n",
      "Data columns (total 7 columns):\n",
      " #   Column      Non-Null Count  Dtype  \n",
      "---  ------      --------------  -----  \n",
      " 0   OrderID     200 non-null    int64  \n",
      " 1   Date        200 non-null    object \n",
      " 2   CustomerID  200 non-null    object \n",
      " 3   Product     190 non-null    object \n",
      " 4   Quantity    200 non-null    int64  \n",
      " 5   Price       200 non-null    int64  \n",
      " 6   Total       194 non-null    float64\n",
      "dtypes: float64(1), int64(3), object(3)\n",
      "memory usage: 11.1+ KB\n"
     ]
    }
   ],
   "source": [
    "#find out more information\n",
    "df.info()"
   ]
  },
  {
   "cell_type": "code",
   "execution_count": 162,
   "id": "4e098387-a844-4ccb-8d70-d2e115782107",
   "metadata": {},
   "outputs": [
    {
     "data": {
      "text/plain": [
       "Product       10\n",
       "Total          6\n",
       "OrderID        0\n",
       "Date           0\n",
       "CustomerID     0\n",
       "Quantity       0\n",
       "Price          0\n",
       "dtype: int64"
      ]
     },
     "execution_count": 162,
     "metadata": {},
     "output_type": "execute_result"
    }
   ],
   "source": [
    "#a method to determine how many null values we have in a dataframe\n",
    "df.isna().sum().sort_values(ascending = False)"
   ]
  },
  {
   "cell_type": "code",
   "execution_count": 163,
   "id": "fbdefb38-d3b5-4b60-9e5f-38d6af0578a7",
   "metadata": {},
   "outputs": [
    {
     "data": {
      "text/html": [
       "<div>\n",
       "<style scoped>\n",
       "    .dataframe tbody tr th:only-of-type {\n",
       "        vertical-align: middle;\n",
       "    }\n",
       "\n",
       "    .dataframe tbody tr th {\n",
       "        vertical-align: top;\n",
       "    }\n",
       "\n",
       "    .dataframe thead th {\n",
       "        text-align: right;\n",
       "    }\n",
       "</style>\n",
       "<table border=\"1\" class=\"dataframe\">\n",
       "  <thead>\n",
       "    <tr style=\"text-align: right;\">\n",
       "      <th></th>\n",
       "      <th>OrderID</th>\n",
       "      <th>Date</th>\n",
       "      <th>CustomerID</th>\n",
       "      <th>Product</th>\n",
       "      <th>Quantity</th>\n",
       "      <th>Price</th>\n",
       "      <th>Total</th>\n",
       "    </tr>\n",
       "  </thead>\n",
       "  <tbody>\n",
       "    <tr>\n",
       "      <th>6</th>\n",
       "      <td>7</td>\n",
       "      <td>2024-01-21</td>\n",
       "      <td>C017</td>\n",
       "      <td>NaN</td>\n",
       "      <td>1</td>\n",
       "      <td>1000</td>\n",
       "      <td>975.85</td>\n",
       "    </tr>\n",
       "    <tr>\n",
       "      <th>22</th>\n",
       "      <td>23</td>\n",
       "      <td>2024-10-03</td>\n",
       "      <td>C002</td>\n",
       "      <td>Laptop</td>\n",
       "      <td>1</td>\n",
       "      <td>1000</td>\n",
       "      <td>NaN</td>\n",
       "    </tr>\n",
       "    <tr>\n",
       "      <th>26</th>\n",
       "      <td>27</td>\n",
       "      <td>2024-09-09</td>\n",
       "      <td>C016</td>\n",
       "      <td>NaN</td>\n",
       "      <td>1</td>\n",
       "      <td>1000</td>\n",
       "      <td>1007.96</td>\n",
       "    </tr>\n",
       "    <tr>\n",
       "      <th>28</th>\n",
       "      <td>29</td>\n",
       "      <td>2024-12-10</td>\n",
       "      <td>C009</td>\n",
       "      <td>NaN</td>\n",
       "      <td>2</td>\n",
       "      <td>600</td>\n",
       "      <td>1218.60</td>\n",
       "    </tr>\n",
       "    <tr>\n",
       "      <th>35</th>\n",
       "      <td>36</td>\n",
       "      <td>2024-06-23</td>\n",
       "      <td>C003</td>\n",
       "      <td>NaN</td>\n",
       "      <td>1</td>\n",
       "      <td>600</td>\n",
       "      <td>591.78</td>\n",
       "    </tr>\n",
       "    <tr>\n",
       "      <th>57</th>\n",
       "      <td>58</td>\n",
       "      <td>2024-09-20</td>\n",
       "      <td>C001</td>\n",
       "      <td>NaN</td>\n",
       "      <td>1</td>\n",
       "      <td>600</td>\n",
       "      <td>612.47</td>\n",
       "    </tr>\n",
       "    <tr>\n",
       "      <th>62</th>\n",
       "      <td>63</td>\n",
       "      <td>2024-12-25</td>\n",
       "      <td>C009</td>\n",
       "      <td>NaN</td>\n",
       "      <td>2</td>\n",
       "      <td>1000</td>\n",
       "      <td>2108.75</td>\n",
       "    </tr>\n",
       "    <tr>\n",
       "      <th>70</th>\n",
       "      <td>71</td>\n",
       "      <td>2024-02-13</td>\n",
       "      <td>C001</td>\n",
       "      <td>NaN</td>\n",
       "      <td>1</td>\n",
       "      <td>100</td>\n",
       "      <td>96.85</td>\n",
       "    </tr>\n",
       "    <tr>\n",
       "      <th>108</th>\n",
       "      <td>109</td>\n",
       "      <td>2024-02-10</td>\n",
       "      <td>C019</td>\n",
       "      <td>Headphones</td>\n",
       "      <td>1</td>\n",
       "      <td>100</td>\n",
       "      <td>NaN</td>\n",
       "    </tr>\n",
       "    <tr>\n",
       "      <th>139</th>\n",
       "      <td>140</td>\n",
       "      <td>2024-12-17</td>\n",
       "      <td>C018</td>\n",
       "      <td>Phone</td>\n",
       "      <td>1</td>\n",
       "      <td>600</td>\n",
       "      <td>NaN</td>\n",
       "    </tr>\n",
       "    <tr>\n",
       "      <th>151</th>\n",
       "      <td>152</td>\n",
       "      <td>2024-01-13</td>\n",
       "      <td>C010</td>\n",
       "      <td>Laptop</td>\n",
       "      <td>1</td>\n",
       "      <td>1000</td>\n",
       "      <td>NaN</td>\n",
       "    </tr>\n",
       "    <tr>\n",
       "      <th>163</th>\n",
       "      <td>164</td>\n",
       "      <td>2024-10-10</td>\n",
       "      <td>C014</td>\n",
       "      <td>NaN</td>\n",
       "      <td>3</td>\n",
       "      <td>1000</td>\n",
       "      <td>3031.03</td>\n",
       "    </tr>\n",
       "    <tr>\n",
       "      <th>173</th>\n",
       "      <td>174</td>\n",
       "      <td>2024-07-08</td>\n",
       "      <td>C006</td>\n",
       "      <td>Laptop</td>\n",
       "      <td>1</td>\n",
       "      <td>1000</td>\n",
       "      <td>NaN</td>\n",
       "    </tr>\n",
       "    <tr>\n",
       "      <th>188</th>\n",
       "      <td>189</td>\n",
       "      <td>2024-06-20</td>\n",
       "      <td>C003</td>\n",
       "      <td>NaN</td>\n",
       "      <td>1</td>\n",
       "      <td>600</td>\n",
       "      <td>617.15</td>\n",
       "    </tr>\n",
       "    <tr>\n",
       "      <th>189</th>\n",
       "      <td>190</td>\n",
       "      <td>2024-05-31</td>\n",
       "      <td>C008</td>\n",
       "      <td>NaN</td>\n",
       "      <td>1</td>\n",
       "      <td>1000</td>\n",
       "      <td>NaN</td>\n",
       "    </tr>\n",
       "  </tbody>\n",
       "</table>\n",
       "</div>"
      ],
      "text/plain": [
       "     OrderID        Date CustomerID     Product  Quantity  Price    Total\n",
       "6          7  2024-01-21       C017         NaN         1   1000   975.85\n",
       "22        23  2024-10-03       C002      Laptop         1   1000      NaN\n",
       "26        27  2024-09-09       C016         NaN         1   1000  1007.96\n",
       "28        29  2024-12-10       C009         NaN         2    600  1218.60\n",
       "35        36  2024-06-23       C003         NaN         1    600   591.78\n",
       "57        58  2024-09-20       C001         NaN         1    600   612.47\n",
       "62        63  2024-12-25       C009         NaN         2   1000  2108.75\n",
       "70        71  2024-02-13       C001         NaN         1    100    96.85\n",
       "108      109  2024-02-10       C019  Headphones         1    100      NaN\n",
       "139      140  2024-12-17       C018       Phone         1    600      NaN\n",
       "151      152  2024-01-13       C010      Laptop         1   1000      NaN\n",
       "163      164  2024-10-10       C014         NaN         3   1000  3031.03\n",
       "173      174  2024-07-08       C006      Laptop         1   1000      NaN\n",
       "188      189  2024-06-20       C003         NaN         1    600   617.15\n",
       "189      190  2024-05-31       C008         NaN         1   1000      NaN"
      ]
     },
     "execution_count": 163,
     "metadata": {},
     "output_type": "execute_result"
    }
   ],
   "source": [
    "# See the rows with missing 'Product' or 'Total'\n",
    "df[df['Product'].isnull() | df['Total'].isnull()]"
   ]
  },
  {
   "cell_type": "code",
   "execution_count": 164,
   "id": "30fcdf5e-5d41-4120-8829-3972fa82fb37",
   "metadata": {},
   "outputs": [
    {
     "name": "stderr",
     "output_type": "stream",
     "text": [
      "C:\\Users\\Fine\\AppData\\Local\\Temp\\ipykernel_1144\\4230781139.py:2: FutureWarning: A value is trying to be set on a copy of a DataFrame or Series through chained assignment using an inplace method.\n",
      "The behavior will change in pandas 3.0. This inplace method will never work because the intermediate object on which we are setting values always behaves as a copy.\n",
      "\n",
      "For example, when doing 'df[col].method(value, inplace=True)', try using 'df.method({col: value}, inplace=True)' or df[col] = df[col].method(value) instead, to perform the operation inplace on the original object.\n",
      "\n",
      "\n",
      "  df['Product'].fillna('Unknown', inplace=True)\n"
     ]
    }
   ],
   "source": [
    "#Rplace missing data in Product with unknown\n",
    "df['Product'].fillna('Unknown', inplace=True)"
   ]
  },
  {
   "cell_type": "code",
   "execution_count": 165,
   "id": "4502bfe5-3b60-473b-bb52-ddbac1f4f860",
   "metadata": {},
   "outputs": [
    {
     "data": {
      "text/plain": [
       "Total         6\n",
       "OrderID       0\n",
       "Date          0\n",
       "CustomerID    0\n",
       "Product       0\n",
       "Quantity      0\n",
       "Price         0\n",
       "dtype: int64"
      ]
     },
     "execution_count": 165,
     "metadata": {},
     "output_type": "execute_result"
    }
   ],
   "source": [
    "#a method to determine how many null values we have in a data frame\n",
    "df.isna().sum().sort_values(ascending = False)"
   ]
  },
  {
   "cell_type": "code",
   "execution_count": 167,
   "id": "656375da-b857-4508-a24a-342a5d731410",
   "metadata": {},
   "outputs": [],
   "source": [
    "#To find the missing value in the Total (Multiple Quantity and Price)\n",
    "missing_total_mask = df['Total'].isnull()\n",
    "df.loc[missing_total_mask, 'Total'] = df.loc[missing_total_mask, 'Quantity'] * df.loc[missing_total_mask, 'Price']"
   ]
  },
  {
   "cell_type": "code",
   "execution_count": 168,
   "id": "71a3e1a9-fc25-4fd5-8e28-392e052c7f59",
   "metadata": {},
   "outputs": [
    {
     "data": {
      "text/plain": [
       "OrderID       0\n",
       "Date          0\n",
       "CustomerID    0\n",
       "Product       0\n",
       "Quantity      0\n",
       "Price         0\n",
       "Total         0\n",
       "dtype: int64"
      ]
     },
     "execution_count": 168,
     "metadata": {},
     "output_type": "execute_result"
    }
   ],
   "source": [
    "#a method to determine how many null values we have in a data frame\n",
    "df.isna().sum().sort_values(ascending = False)"
   ]
  },
  {
   "cell_type": "code",
   "execution_count": 169,
   "id": "f64459eb-4bb9-46d5-b48b-a13988dd9dc2",
   "metadata": {},
   "outputs": [
    {
     "name": "stdout",
     "output_type": "stream",
     "text": [
      "<class 'pandas.core.frame.DataFrame'>\n",
      "RangeIndex: 200 entries, 0 to 199\n",
      "Data columns (total 7 columns):\n",
      " #   Column      Non-Null Count  Dtype  \n",
      "---  ------      --------------  -----  \n",
      " 0   OrderID     200 non-null    int64  \n",
      " 1   Date        200 non-null    object \n",
      " 2   CustomerID  200 non-null    object \n",
      " 3   Product     200 non-null    object \n",
      " 4   Quantity    200 non-null    int64  \n",
      " 5   Price       200 non-null    int64  \n",
      " 6   Total       200 non-null    float64\n",
      "dtypes: float64(1), int64(3), object(3)\n",
      "memory usage: 11.1+ KB\n"
     ]
    }
   ],
   "source": [
    "df.info()"
   ]
  },
  {
   "cell_type": "code",
   "execution_count": 170,
   "id": "12f3a14d-2d54-4ec2-b9b7-30135b022400",
   "metadata": {},
   "outputs": [
    {
     "data": {
      "text/html": [
       "<div>\n",
       "<style scoped>\n",
       "    .dataframe tbody tr th:only-of-type {\n",
       "        vertical-align: middle;\n",
       "    }\n",
       "\n",
       "    .dataframe tbody tr th {\n",
       "        vertical-align: top;\n",
       "    }\n",
       "\n",
       "    .dataframe thead th {\n",
       "        text-align: right;\n",
       "    }\n",
       "</style>\n",
       "<table border=\"1\" class=\"dataframe\">\n",
       "  <thead>\n",
       "    <tr style=\"text-align: right;\">\n",
       "      <th></th>\n",
       "      <th>OrderID</th>\n",
       "      <th>Date</th>\n",
       "      <th>CustomerID</th>\n",
       "      <th>Product</th>\n",
       "      <th>Quantity</th>\n",
       "      <th>Price</th>\n",
       "      <th>Total</th>\n",
       "    </tr>\n",
       "  </thead>\n",
       "  <tbody>\n",
       "    <tr>\n",
       "      <th>0</th>\n",
       "      <td>1</td>\n",
       "      <td>2024-04-12</td>\n",
       "      <td>C002</td>\n",
       "      <td>Phone</td>\n",
       "      <td>1</td>\n",
       "      <td>600</td>\n",
       "      <td>642.09</td>\n",
       "    </tr>\n",
       "    <tr>\n",
       "      <th>1</th>\n",
       "      <td>2</td>\n",
       "      <td>2024-12-14</td>\n",
       "      <td>C003</td>\n",
       "      <td>Laptop</td>\n",
       "      <td>2</td>\n",
       "      <td>1000</td>\n",
       "      <td>2098.39</td>\n",
       "    </tr>\n",
       "    <tr>\n",
       "      <th>2</th>\n",
       "      <td>3</td>\n",
       "      <td>2024-09-27</td>\n",
       "      <td>C017</td>\n",
       "      <td>Monitor</td>\n",
       "      <td>1</td>\n",
       "      <td>200</td>\n",
       "      <td>196.34</td>\n",
       "    </tr>\n",
       "    <tr>\n",
       "      <th>3</th>\n",
       "      <td>4</td>\n",
       "      <td>2024-04-16</td>\n",
       "      <td>C005</td>\n",
       "      <td>Phone</td>\n",
       "      <td>3</td>\n",
       "      <td>600</td>\n",
       "      <td>1955.86</td>\n",
       "    </tr>\n",
       "    <tr>\n",
       "      <th>4</th>\n",
       "      <td>5</td>\n",
       "      <td>2024-03-12</td>\n",
       "      <td>C017</td>\n",
       "      <td>Laptop</td>\n",
       "      <td>1</td>\n",
       "      <td>1000</td>\n",
       "      <td>1098.19</td>\n",
       "    </tr>\n",
       "    <tr>\n",
       "      <th>5</th>\n",
       "      <td>6</td>\n",
       "      <td>2024-07-07</td>\n",
       "      <td>C017</td>\n",
       "      <td>Laptop</td>\n",
       "      <td>2</td>\n",
       "      <td>1000</td>\n",
       "      <td>1882.00</td>\n",
       "    </tr>\n",
       "    <tr>\n",
       "      <th>6</th>\n",
       "      <td>7</td>\n",
       "      <td>2024-01-21</td>\n",
       "      <td>C017</td>\n",
       "      <td>Unknown</td>\n",
       "      <td>1</td>\n",
       "      <td>1000</td>\n",
       "      <td>975.85</td>\n",
       "    </tr>\n",
       "    <tr>\n",
       "      <th>7</th>\n",
       "      <td>8</td>\n",
       "      <td>2024-04-12</td>\n",
       "      <td>C002</td>\n",
       "      <td>Monitor</td>\n",
       "      <td>2</td>\n",
       "      <td>200</td>\n",
       "      <td>434.12</td>\n",
       "    </tr>\n",
       "    <tr>\n",
       "      <th>8</th>\n",
       "      <td>9</td>\n",
       "      <td>2024-05-01</td>\n",
       "      <td>C002</td>\n",
       "      <td>Phone</td>\n",
       "      <td>1</td>\n",
       "      <td>600</td>\n",
       "      <td>626.59</td>\n",
       "    </tr>\n",
       "    <tr>\n",
       "      <th>9</th>\n",
       "      <td>10</td>\n",
       "      <td>2024-08-02</td>\n",
       "      <td>C005</td>\n",
       "      <td>Phone</td>\n",
       "      <td>1</td>\n",
       "      <td>600</td>\n",
       "      <td>545.77</td>\n",
       "    </tr>\n",
       "    <tr>\n",
       "      <th>10</th>\n",
       "      <td>11</td>\n",
       "      <td>2024-11-26</td>\n",
       "      <td>C001</td>\n",
       "      <td>Phone</td>\n",
       "      <td>1</td>\n",
       "      <td>600</td>\n",
       "      <td>633.78</td>\n",
       "    </tr>\n",
       "    <tr>\n",
       "      <th>11</th>\n",
       "      <td>12</td>\n",
       "      <td>2024-03-28</td>\n",
       "      <td>C001</td>\n",
       "      <td>Phone</td>\n",
       "      <td>1</td>\n",
       "      <td>600</td>\n",
       "      <td>639.35</td>\n",
       "    </tr>\n",
       "    <tr>\n",
       "      <th>12</th>\n",
       "      <td>13</td>\n",
       "      <td>2024-04-09</td>\n",
       "      <td>C019</td>\n",
       "      <td>Tablet</td>\n",
       "      <td>1</td>\n",
       "      <td>400</td>\n",
       "      <td>420.04</td>\n",
       "    </tr>\n",
       "    <tr>\n",
       "      <th>13</th>\n",
       "      <td>14</td>\n",
       "      <td>2024-12-25</td>\n",
       "      <td>C002</td>\n",
       "      <td>Laptop</td>\n",
       "      <td>1</td>\n",
       "      <td>1000</td>\n",
       "      <td>1059.91</td>\n",
       "    </tr>\n",
       "    <tr>\n",
       "      <th>14</th>\n",
       "      <td>15</td>\n",
       "      <td>2024-05-31</td>\n",
       "      <td>C012</td>\n",
       "      <td>Phone</td>\n",
       "      <td>1</td>\n",
       "      <td>600</td>\n",
       "      <td>639.02</td>\n",
       "    </tr>\n",
       "    <tr>\n",
       "      <th>15</th>\n",
       "      <td>16</td>\n",
       "      <td>2024-05-10</td>\n",
       "      <td>C006</td>\n",
       "      <td>Laptop</td>\n",
       "      <td>1</td>\n",
       "      <td>1000</td>\n",
       "      <td>937.28</td>\n",
       "    </tr>\n",
       "    <tr>\n",
       "      <th>16</th>\n",
       "      <td>17</td>\n",
       "      <td>2024-05-29</td>\n",
       "      <td>C004</td>\n",
       "      <td>Laptop</td>\n",
       "      <td>2</td>\n",
       "      <td>1000</td>\n",
       "      <td>1894.28</td>\n",
       "    </tr>\n",
       "    <tr>\n",
       "      <th>17</th>\n",
       "      <td>18</td>\n",
       "      <td>2024-11-04</td>\n",
       "      <td>C011</td>\n",
       "      <td>Laptop</td>\n",
       "      <td>3</td>\n",
       "      <td>1000</td>\n",
       "      <td>3080.26</td>\n",
       "    </tr>\n",
       "    <tr>\n",
       "      <th>18</th>\n",
       "      <td>19</td>\n",
       "      <td>2024-09-14</td>\n",
       "      <td>C017</td>\n",
       "      <td>Laptop</td>\n",
       "      <td>1</td>\n",
       "      <td>1000</td>\n",
       "      <td>1081.57</td>\n",
       "    </tr>\n",
       "    <tr>\n",
       "      <th>19</th>\n",
       "      <td>20</td>\n",
       "      <td>2024-12-09</td>\n",
       "      <td>C006</td>\n",
       "      <td>Laptop</td>\n",
       "      <td>2</td>\n",
       "      <td>1000</td>\n",
       "      <td>1926.48</td>\n",
       "    </tr>\n",
       "  </tbody>\n",
       "</table>\n",
       "</div>"
      ],
      "text/plain": [
       "    OrderID        Date CustomerID  Product  Quantity  Price    Total\n",
       "0         1  2024-04-12       C002    Phone         1    600   642.09\n",
       "1         2  2024-12-14       C003   Laptop         2   1000  2098.39\n",
       "2         3  2024-09-27       C017  Monitor         1    200   196.34\n",
       "3         4  2024-04-16       C005    Phone         3    600  1955.86\n",
       "4         5  2024-03-12       C017   Laptop         1   1000  1098.19\n",
       "5         6  2024-07-07       C017   Laptop         2   1000  1882.00\n",
       "6         7  2024-01-21       C017  Unknown         1   1000   975.85\n",
       "7         8  2024-04-12       C002  Monitor         2    200   434.12\n",
       "8         9  2024-05-01       C002    Phone         1    600   626.59\n",
       "9        10  2024-08-02       C005    Phone         1    600   545.77\n",
       "10       11  2024-11-26       C001    Phone         1    600   633.78\n",
       "11       12  2024-03-28       C001    Phone         1    600   639.35\n",
       "12       13  2024-04-09       C019   Tablet         1    400   420.04\n",
       "13       14  2024-12-25       C002   Laptop         1   1000  1059.91\n",
       "14       15  2024-05-31       C012    Phone         1    600   639.02\n",
       "15       16  2024-05-10       C006   Laptop         1   1000   937.28\n",
       "16       17  2024-05-29       C004   Laptop         2   1000  1894.28\n",
       "17       18  2024-11-04       C011   Laptop         3   1000  3080.26\n",
       "18       19  2024-09-14       C017   Laptop         1   1000  1081.57\n",
       "19       20  2024-12-09       C006   Laptop         2   1000  1926.48"
      ]
     },
     "execution_count": 170,
     "metadata": {},
     "output_type": "execute_result"
    }
   ],
   "source": [
    "df.head(20)"
   ]
  },
  {
   "cell_type": "code",
   "execution_count": null,
   "id": "74e0ba9e-c6bc-4a8b-b1e8-6888c5c0f260",
   "metadata": {},
   "outputs": [],
   "source": [
    "#After the data clearnng\n",
    "#Descriptive statistics of the dataset"
   ]
  },
  {
   "cell_type": "code",
   "execution_count": 171,
   "id": "b5b1b73f-3d84-401c-b870-c938d3694de7",
   "metadata": {},
   "outputs": [],
   "source": [
    "grouped_df = df.groupby('Product')"
   ]
  },
  {
   "cell_type": "code",
   "execution_count": 172,
   "id": "7f728e5c-6ec5-4413-a282-035cdc3f44ce",
   "metadata": {},
   "outputs": [
    {
     "data": {
      "text/plain": [
       "Product\n",
       "Headphones     9\n",
       "Laptop        76\n",
       "Monitor       15\n",
       "Phone         59\n",
       "Tablet        31\n",
       "Unknown       10\n",
       "Name: Product, dtype: int64"
      ]
     },
     "execution_count": 172,
     "metadata": {},
     "output_type": "execute_result"
    }
   ],
   "source": [
    "grouped_df['Product'].count()"
   ]
  },
  {
   "cell_type": "code",
   "execution_count": 174,
   "id": "2cc77e71-37c0-46cf-8a75-68031162d96b",
   "metadata": {},
   "outputs": [
    {
     "data": {
      "text/plain": [
       "Product\n",
       "Headphones     100.0\n",
       "Laptop        1000.0\n",
       "Monitor        200.0\n",
       "Phone          600.0\n",
       "Tablet         400.0\n",
       "Unknown        750.0\n",
       "Name: Price, dtype: float64"
      ]
     },
     "execution_count": 174,
     "metadata": {},
     "output_type": "execute_result"
    }
   ],
   "source": [
    "grouped_df['Price'].mean()"
   ]
  },
  {
   "cell_type": "code",
   "execution_count": 182,
   "id": "198595e6-43ca-425d-8cb0-a43dcc5696cc",
   "metadata": {},
   "outputs": [
    {
     "name": "stdout",
     "output_type": "stream",
     "text": [
      "Total orders: 200\n"
     ]
    }
   ],
   "source": [
    "#What is the total number of orders?\n",
    "print('Total orders:', df['OrderID'].count())"
   ]
  },
  {
   "cell_type": "code",
   "execution_count": 183,
   "id": "5501710b-bab1-43ab-8ef3-ddd872b7975a",
   "metadata": {},
   "outputs": [
    {
     "name": "stdout",
     "output_type": "stream",
     "text": [
      "Total revenue: 186601.90999999997\n"
     ]
    }
   ],
   "source": [
    "#Sum of the Total\n",
    "print('Total revenue:', df['Total'].sum())"
   ]
  },
  {
   "cell_type": "code",
   "execution_count": 184,
   "id": "23304e44-c0f8-40ef-839e-42dbdd900d5d",
   "metadata": {},
   "outputs": [
    {
     "data": {
      "text/html": [
       "<div>\n",
       "<style scoped>\n",
       "    .dataframe tbody tr th:only-of-type {\n",
       "        vertical-align: middle;\n",
       "    }\n",
       "\n",
       "    .dataframe tbody tr th {\n",
       "        vertical-align: top;\n",
       "    }\n",
       "\n",
       "    .dataframe thead th {\n",
       "        text-align: right;\n",
       "    }\n",
       "</style>\n",
       "<table border=\"1\" class=\"dataframe\">\n",
       "  <thead>\n",
       "    <tr style=\"text-align: right;\">\n",
       "      <th></th>\n",
       "      <th>OrderID</th>\n",
       "      <th>Quantity</th>\n",
       "      <th>Price</th>\n",
       "      <th>Total</th>\n",
       "    </tr>\n",
       "  </thead>\n",
       "  <tbody>\n",
       "    <tr>\n",
       "      <th>count</th>\n",
       "      <td>200.000000</td>\n",
       "      <td>200.00000</td>\n",
       "      <td>200.000000</td>\n",
       "      <td>200.000000</td>\n",
       "    </tr>\n",
       "    <tr>\n",
       "      <th>mean</th>\n",
       "      <td>100.500000</td>\n",
       "      <td>1.36500</td>\n",
       "      <td>676.000000</td>\n",
       "      <td>933.009550</td>\n",
       "    </tr>\n",
       "    <tr>\n",
       "      <th>std</th>\n",
       "      <td>57.879185</td>\n",
       "      <td>0.61943</td>\n",
       "      <td>300.291316</td>\n",
       "      <td>647.446344</td>\n",
       "    </tr>\n",
       "    <tr>\n",
       "      <th>min</th>\n",
       "      <td>1.000000</td>\n",
       "      <td>1.00000</td>\n",
       "      <td>100.000000</td>\n",
       "      <td>93.310000</td>\n",
       "    </tr>\n",
       "    <tr>\n",
       "      <th>25%</th>\n",
       "      <td>50.750000</td>\n",
       "      <td>1.00000</td>\n",
       "      <td>400.000000</td>\n",
       "      <td>564.002500</td>\n",
       "    </tr>\n",
       "    <tr>\n",
       "      <th>50%</th>\n",
       "      <td>100.500000</td>\n",
       "      <td>1.00000</td>\n",
       "      <td>600.000000</td>\n",
       "      <td>838.350000</td>\n",
       "    </tr>\n",
       "    <tr>\n",
       "      <th>75%</th>\n",
       "      <td>150.250000</td>\n",
       "      <td>2.00000</td>\n",
       "      <td>1000.000000</td>\n",
       "      <td>1062.367500</td>\n",
       "    </tr>\n",
       "    <tr>\n",
       "      <th>max</th>\n",
       "      <td>200.000000</td>\n",
       "      <td>3.00000</td>\n",
       "      <td>1000.000000</td>\n",
       "      <td>3293.240000</td>\n",
       "    </tr>\n",
       "  </tbody>\n",
       "</table>\n",
       "</div>"
      ],
      "text/plain": [
       "          OrderID   Quantity        Price        Total\n",
       "count  200.000000  200.00000   200.000000   200.000000\n",
       "mean   100.500000    1.36500   676.000000   933.009550\n",
       "std     57.879185    0.61943   300.291316   647.446344\n",
       "min      1.000000    1.00000   100.000000    93.310000\n",
       "25%     50.750000    1.00000   400.000000   564.002500\n",
       "50%    100.500000    1.00000   600.000000   838.350000\n",
       "75%    150.250000    2.00000  1000.000000  1062.367500\n",
       "max    200.000000    3.00000  1000.000000  3293.240000"
      ]
     },
     "execution_count": 184,
     "metadata": {},
     "output_type": "execute_result"
    }
   ],
   "source": [
    "#To find all the descriptive statistics \n",
    "df.describe()"
   ]
  },
  {
   "cell_type": "code",
   "execution_count": 179,
   "id": "0276b552-6723-49d4-9d0a-01eb5c292b9f",
   "metadata": {},
   "outputs": [
    {
     "data": {
      "text/plain": [
       "Product\n",
       "Laptop        107\n",
       "Phone          76\n",
       "Tablet         42\n",
       "Monitor        22\n",
       "Unknown        14\n",
       "Headphones     12\n",
       "Name: Quantity, dtype: int64"
      ]
     },
     "execution_count": 179,
     "metadata": {},
     "output_type": "execute_result"
    }
   ],
   "source": [
    "#Which product category was sold the most (by quantity and revenue)?\n",
    "Top_products = df.groupby('Product')['Quantity'].sum().sort_values(ascending=False)\n",
    "Top_products"
   ]
  },
  {
   "cell_type": "code",
   "execution_count": 180,
   "id": "de35e3ff-b9cd-4eb5-82fc-987435a2b9f1",
   "metadata": {},
   "outputs": [
    {
     "data": {
      "text/plain": [
       "Product\n",
       "Laptop        106405.98\n",
       "Phone          46171.36\n",
       "Tablet         17119.23\n",
       "Unknown        11260.44\n",
       "Monitor         4415.36\n",
       "Headphones      1229.54\n",
       "Name: Total, dtype: float64"
      ]
     },
     "execution_count": 180,
     "metadata": {},
     "output_type": "execute_result"
    }
   ],
   "source": [
    "Top_Product_by_Total = df.groupby('Product')['Total'].sum().sort_values(ascending=False)\n",
    "Top_Product_by_Total"
   ]
  },
  {
   "cell_type": "code",
   "execution_count": 195,
   "id": "8ac83d4d-98e1-452a-a415-68c4227d825f",
   "metadata": {},
   "outputs": [
    {
     "data": {
      "text/html": [
       "<div>\n",
       "<style scoped>\n",
       "    .dataframe tbody tr th:only-of-type {\n",
       "        vertical-align: middle;\n",
       "    }\n",
       "\n",
       "    .dataframe tbody tr th {\n",
       "        vertical-align: top;\n",
       "    }\n",
       "\n",
       "    .dataframe thead th {\n",
       "        text-align: right;\n",
       "    }\n",
       "</style>\n",
       "<table border=\"1\" class=\"dataframe\">\n",
       "  <thead>\n",
       "    <tr style=\"text-align: right;\">\n",
       "      <th></th>\n",
       "      <th>CustomerID</th>\n",
       "      <th>Quantity</th>\n",
       "    </tr>\n",
       "  </thead>\n",
       "  <tbody>\n",
       "    <tr>\n",
       "      <th>0</th>\n",
       "      <td>C001</td>\n",
       "      <td>22</td>\n",
       "    </tr>\n",
       "    <tr>\n",
       "      <th>1</th>\n",
       "      <td>C002</td>\n",
       "      <td>17</td>\n",
       "    </tr>\n",
       "    <tr>\n",
       "      <th>2</th>\n",
       "      <td>C003</td>\n",
       "      <td>23</td>\n",
       "    </tr>\n",
       "    <tr>\n",
       "      <th>3</th>\n",
       "      <td>C004</td>\n",
       "      <td>14</td>\n",
       "    </tr>\n",
       "    <tr>\n",
       "      <th>4</th>\n",
       "      <td>C005</td>\n",
       "      <td>16</td>\n",
       "    </tr>\n",
       "  </tbody>\n",
       "</table>\n",
       "</div>"
      ],
      "text/plain": [
       "  CustomerID  Quantity\n",
       "0       C001        22\n",
       "1       C002        17\n",
       "2       C003        23\n",
       "3       C004        14\n",
       "4       C005        16"
      ]
     },
     "execution_count": 195,
     "metadata": {},
     "output_type": "execute_result"
    }
   ],
   "source": [
    "#group by the CustomerID\n",
    "grouped_df = df.groupby('CustomerID')\n",
    "\n",
    "Customer_df = grouped_df['Quantity'].sum()\n",
    "Customer_df = Customer_df.reset_index()\n",
    "Customer_df.head()"
   ]
  },
  {
   "cell_type": "code",
   "execution_count": 196,
   "id": "ef87cb10-89dd-4d1f-be08-a3b281101882",
   "metadata": {},
   "outputs": [
    {
     "name": "stdout",
     "output_type": "stream",
     "text": [
      "Min Customer amount:  7\n",
      "Max Customer amount:  23\n"
     ]
    }
   ],
   "source": [
    "print('Min Customer amount: ', Customer_df['Quantity'].min())\n",
    "print('Max Customer amount: ', Customer_df['Quantity'].max())"
   ]
  },
  {
   "cell_type": "code",
   "execution_count": 198,
   "id": "133f9df7-4c61-48dc-bd18-01d177295378",
   "metadata": {},
   "outputs": [
    {
     "data": {
      "text/html": [
       "<div>\n",
       "<style scoped>\n",
       "    .dataframe tbody tr th:only-of-type {\n",
       "        vertical-align: middle;\n",
       "    }\n",
       "\n",
       "    .dataframe tbody tr th {\n",
       "        vertical-align: top;\n",
       "    }\n",
       "\n",
       "    .dataframe thead th {\n",
       "        text-align: right;\n",
       "    }\n",
       "</style>\n",
       "<table border=\"1\" class=\"dataframe\">\n",
       "  <thead>\n",
       "    <tr style=\"text-align: right;\">\n",
       "      <th></th>\n",
       "      <th>OrderID</th>\n",
       "      <th>Quantity</th>\n",
       "      <th>Price</th>\n",
       "      <th>Total</th>\n",
       "    </tr>\n",
       "  </thead>\n",
       "  <tbody>\n",
       "    <tr>\n",
       "      <th>10</th>\n",
       "      <td>11</td>\n",
       "      <td>1</td>\n",
       "      <td>600</td>\n",
       "      <td>633.78</td>\n",
       "    </tr>\n",
       "    <tr>\n",
       "      <th>11</th>\n",
       "      <td>12</td>\n",
       "      <td>1</td>\n",
       "      <td>600</td>\n",
       "      <td>639.35</td>\n",
       "    </tr>\n",
       "    <tr>\n",
       "      <th>27</th>\n",
       "      <td>28</td>\n",
       "      <td>2</td>\n",
       "      <td>600</td>\n",
       "      <td>1185.30</td>\n",
       "    </tr>\n",
       "    <tr>\n",
       "      <th>41</th>\n",
       "      <td>42</td>\n",
       "      <td>1</td>\n",
       "      <td>400</td>\n",
       "      <td>399.63</td>\n",
       "    </tr>\n",
       "    <tr>\n",
       "      <th>46</th>\n",
       "      <td>47</td>\n",
       "      <td>3</td>\n",
       "      <td>1000</td>\n",
       "      <td>3124.19</td>\n",
       "    </tr>\n",
       "    <tr>\n",
       "      <th>57</th>\n",
       "      <td>58</td>\n",
       "      <td>1</td>\n",
       "      <td>600</td>\n",
       "      <td>612.47</td>\n",
       "    </tr>\n",
       "    <tr>\n",
       "      <th>70</th>\n",
       "      <td>71</td>\n",
       "      <td>1</td>\n",
       "      <td>100</td>\n",
       "      <td>96.85</td>\n",
       "    </tr>\n",
       "    <tr>\n",
       "      <th>90</th>\n",
       "      <td>91</td>\n",
       "      <td>1</td>\n",
       "      <td>1000</td>\n",
       "      <td>920.85</td>\n",
       "    </tr>\n",
       "    <tr>\n",
       "      <th>92</th>\n",
       "      <td>93</td>\n",
       "      <td>1</td>\n",
       "      <td>100</td>\n",
       "      <td>108.21</td>\n",
       "    </tr>\n",
       "    <tr>\n",
       "      <th>100</th>\n",
       "      <td>101</td>\n",
       "      <td>1</td>\n",
       "      <td>1000</td>\n",
       "      <td>945.48</td>\n",
       "    </tr>\n",
       "    <tr>\n",
       "      <th>111</th>\n",
       "      <td>112</td>\n",
       "      <td>2</td>\n",
       "      <td>400</td>\n",
       "      <td>794.51</td>\n",
       "    </tr>\n",
       "    <tr>\n",
       "      <th>113</th>\n",
       "      <td>114</td>\n",
       "      <td>1</td>\n",
       "      <td>400</td>\n",
       "      <td>433.48</td>\n",
       "    </tr>\n",
       "    <tr>\n",
       "      <th>130</th>\n",
       "      <td>131</td>\n",
       "      <td>1</td>\n",
       "      <td>200</td>\n",
       "      <td>214.43</td>\n",
       "    </tr>\n",
       "    <tr>\n",
       "      <th>132</th>\n",
       "      <td>133</td>\n",
       "      <td>1</td>\n",
       "      <td>1000</td>\n",
       "      <td>936.89</td>\n",
       "    </tr>\n",
       "    <tr>\n",
       "      <th>146</th>\n",
       "      <td>147</td>\n",
       "      <td>1</td>\n",
       "      <td>400</td>\n",
       "      <td>402.21</td>\n",
       "    </tr>\n",
       "    <tr>\n",
       "      <th>159</th>\n",
       "      <td>160</td>\n",
       "      <td>1</td>\n",
       "      <td>200</td>\n",
       "      <td>219.16</td>\n",
       "    </tr>\n",
       "    <tr>\n",
       "      <th>177</th>\n",
       "      <td>178</td>\n",
       "      <td>2</td>\n",
       "      <td>1000</td>\n",
       "      <td>2185.06</td>\n",
       "    </tr>\n",
       "  </tbody>\n",
       "</table>\n",
       "</div>"
      ],
      "text/plain": [
       "     OrderID  Quantity  Price    Total\n",
       "10        11         1    600   633.78\n",
       "11        12         1    600   639.35\n",
       "27        28         2    600  1185.30\n",
       "41        42         1    400   399.63\n",
       "46        47         3   1000  3124.19\n",
       "57        58         1    600   612.47\n",
       "70        71         1    100    96.85\n",
       "90        91         1   1000   920.85\n",
       "92        93         1    100   108.21\n",
       "100      101         1   1000   945.48\n",
       "111      112         2    400   794.51\n",
       "113      114         1    400   433.48\n",
       "130      131         1    200   214.43\n",
       "132      133         1   1000   936.89\n",
       "146      147         1    400   402.21\n",
       "159      160         1    200   219.16\n",
       "177      178         2   1000  2185.06"
      ]
     },
     "execution_count": 198,
     "metadata": {},
     "output_type": "execute_result"
    }
   ],
   "source": [
    "df.loc[(df.\tCustomerID == 'C001'), ['OrderID', 'Quantity', 'Price', 'Total']]"
   ]
  },
  {
   "cell_type": "code",
   "execution_count": 208,
   "id": "34f796ec-07c7-48de-8dbe-328369032d96",
   "metadata": {},
   "outputs": [
    {
     "data": {
      "text/plain": [
       "(Timestamp('2024-12-31 00:00:00'), 21722.82)"
      ]
     },
     "execution_count": 208,
     "metadata": {},
     "output_type": "execute_result"
    }
   ],
   "source": [
    "#What was the best performing month in terms of total sales?\n",
    "best_month = monthly_sales.idxmax(), monthly_sales.max()\n",
    "best_month"
   ]
  },
  {
   "cell_type": "code",
   "execution_count": 210,
   "id": "ee02eabc-ee86-480e-8441-cbf00c707fd3",
   "metadata": {},
   "outputs": [
    {
     "name": "stdout",
     "output_type": "stream",
     "text": [
      "CustomerID\n",
      "C001    17\n",
      "C003    17\n",
      "C016    16\n",
      "C017    14\n",
      "C020    14\n",
      "Name: Quantity, dtype: int64\n"
     ]
    }
   ],
   "source": [
    "#Which customers made the most purchases?\n",
    "top_customers = df.groupby('CustomerID')['Quantity'].count().sort_values(ascending=False).head()\n",
    "print(top_customers)"
   ]
  },
  {
   "cell_type": "code",
   "execution_count": 211,
   "id": "d8f65067-223a-4754-8ad0-2e1497cbc176",
   "metadata": {},
   "outputs": [
    {
     "data": {
      "text/html": [
       "<div>\n",
       "<style scoped>\n",
       "    .dataframe tbody tr th:only-of-type {\n",
       "        vertical-align: middle;\n",
       "    }\n",
       "\n",
       "    .dataframe tbody tr th {\n",
       "        vertical-align: top;\n",
       "    }\n",
       "\n",
       "    .dataframe thead th {\n",
       "        text-align: right;\n",
       "    }\n",
       "</style>\n",
       "<table border=\"1\" class=\"dataframe\">\n",
       "  <thead>\n",
       "    <tr style=\"text-align: right;\">\n",
       "      <th></th>\n",
       "      <th>Price</th>\n",
       "      <th>Quantity</th>\n",
       "    </tr>\n",
       "  </thead>\n",
       "  <tbody>\n",
       "    <tr>\n",
       "      <th>Price</th>\n",
       "      <td>1.000000</td>\n",
       "      <td>0.041928</td>\n",
       "    </tr>\n",
       "    <tr>\n",
       "      <th>Quantity</th>\n",
       "      <td>0.041928</td>\n",
       "      <td>1.000000</td>\n",
       "    </tr>\n",
       "  </tbody>\n",
       "</table>\n",
       "</div>"
      ],
      "text/plain": [
       "             Price  Quantity\n",
       "Price     1.000000  0.041928\n",
       "Quantity  0.041928  1.000000"
      ]
     },
     "execution_count": 211,
     "metadata": {},
     "output_type": "execute_result"
    }
   ],
   "source": [
    "#Correlation between product price and quantity sold,\n",
    "#what is the relationship between the product price and quantity sold\n",
    "corr = df[['Price', 'Quantity']].corr()\n",
    "corr"
   ]
  },
  {
   "cell_type": "code",
   "execution_count": 214,
   "id": "1744d3f3-3e3c-4edc-8880-5f60fff3d9c3",
   "metadata": {},
   "outputs": [
    {
     "data": {
      "image/png": "[encoded data removed]",
      "text/plain": [
       "<Figure size 640x480 with 1 Axes>"
      ]
     },
     "metadata": {},
     "output_type": "display_data"
    }
   ],
   "source": [
    "#what is the relationship between the total bill and tip\n",
    "sns.scatterplot(data=df, x='Price', y='Quantity');"
   ]
  },
  {
   "cell_type": "code",
   "execution_count": 222,
   "id": "1bbc566b-84a7-4360-b297-b8018b7d5f59",
   "metadata": {},
   "outputs": [
    {
     "data": {
      "text/plain": [
       "<Axes: title={'center': 'Daily Sales Trend'}, xlabel='Date'>"
      ]
     },
     "execution_count": 222,
     "metadata": {},
     "output_type": "execute_result"
    },
    {
     "data": {
      "image/png": "[encoded data removed]",
      "text/plain": [
       "<Figure size 1000x500 with 1 Axes>"
      ]
     },
     "metadata": {},
     "output_type": "display_data"
    }
   ],
   "source": [
    "# Line Plot: Sales trend over time\n",
    "\n",
    "# First, make sure there's a datetime column in your dataframe\n",
    "# Assuming you have a 'Date' column that contains datetime values\n",
    "# Convert it to datetime if it's not already\n",
    "#df['Date'] = pd.to_datetime(df['Date'])\n",
    "\n",
    "# Set the 'Date' column as the index\n",
    "#df_indexed = df.set_index('Date')\n",
    "\n",
    "# Now you can use resample\n",
    "#df_indexed['Total'].resample('D').sum().plot(title='Daily Sales Trend', figsize=(10, 5))\n",
    "\n",
    "# If you don't want to modify the original dataframe, you can do this in one line:\n",
    "df.set_index(pd.to_datetime(df['Date']))['Total'].resample('D').sum().plot(title='Daily Sales Trend', figsize=(10, 5))"
   ]
  },
  {
   "cell_type": "code",
   "execution_count": 217,
   "id": "3974cd27-ff7a-4528-b2e5-0e3b86f82c38",
   "metadata": {},
   "outputs": [
    {
     "data": {
      "text/plain": [
       "<Axes: title={'center': 'Top Customers by Revenue'}, xlabel='CustomerID'>"
      ]
     },
     "execution_count": 217,
     "metadata": {},
     "output_type": "execute_result"
    },
    {
     "data": {
      "image/png": "[encoded data removed]",
      "text/plain": [
       "<Figure size 640x480 with 1 Axes>"
      ]
     },
     "metadata": {},
     "output_type": "display_data"
    }
   ],
   "source": [
    "#Top-spending customers\n",
    "df.groupby('CustomerID')['Total'].sum().sort_values(ascending=False).head(5).plot(kind='bar', title='Top Customers by Revenue')"
   ]
  },
  {
   "cell_type": "code",
   "execution_count": 218,
   "id": "db102759-ea4e-4596-90f4-beca4bbc2cbe",
   "metadata": {},
   "outputs": [
    {
     "data": {
      "text/plain": [
       "<Axes: >"
      ]
     },
     "execution_count": 218,
     "metadata": {},
     "output_type": "execute_result"
    },
    {
     "data": {
      "image/png": "[encoded data removed]",
      "text/plain": [
       "<Figure size 640x480 with 2 Axes>"
      ]
     },
     "metadata": {},
     "output_type": "display_data"
    }
   ],
   "source": [
    "#Correlation matrix\n",
    "sns.heatmap(df[['Quantity', 'Price', 'Total']].corr(), annot=True, cmap='Reds')"
   ]
  },
  {
   "cell_type": "code",
   "execution_count": 219,
   "id": "d3b8dcf2-0d93-462d-82e5-855441ff0873",
   "metadata": {},
   "outputs": [
    {
     "data": {
      "image/png": "[encoded data removed]",
      "text/plain": [
       "<Figure size 1000x600 with 1 Axes>"
      ]
     },
     "metadata": {},
     "output_type": "display_data"
    }
   ],
   "source": [
    "#Revenue share by product\n",
    "#revenue_by_product.head(5).plot.pie(autopct='%1.1f%%', title='Top 5 Products by Revenue')\n",
    "\n",
    "import matplotlib.pyplot as plt\n",
    "\n",
    "# Create a figure and a set of subplots\n",
    "fig, axs = plt.subplots(1, 1, figsize=(10, 6))  # Creates 1 subplot\n",
    "\n",
    "bar_data = df['Product'].value_counts()\n",
    "axs.bar(bar_data.index, bar_data.values)  # Use axs instead of axs[0] for a single subplot\n",
    "axs.set_title('Bar plot', fontsize=10)\n",
    "\n",
    "plt.tight_layout()  # Adjust subplot parameters to give specified padding\n",
    "plt.show()  # Display the figure"
   ]
  }
 ],
 "metadata": {
  "kernelspec": {
   "display_name": "Python [conda env:base] *",
   "language": "python",
   "name": "conda-base-py"
  },
  "language_info": {
   "codemirror_mode": {
    "name": "ipython",
    "version": 3
   },
   "file_extension": ".py",
   "mimetype": "text/x-python",
   "name": "python",
   "nbconvert_exporter": "python",
   "pygments_lexer": "ipython3",
   "version": "3.12.7"
  }
 },
 "nbformat": 4,
 "nbformat_minor": 5
}
